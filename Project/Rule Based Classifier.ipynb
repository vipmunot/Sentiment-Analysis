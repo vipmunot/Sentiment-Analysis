{
 "cells": [
  {
   "cell_type": "markdown",
   "metadata": {},
   "source": [
    "# Rule Based Classifier"
   ]
  },
  {
   "cell_type": "raw",
   "metadata": {},
   "source": [
    "This is classifier uses positive and negative words dictionaries to classify sentences into positive and negative sentences.\n",
    "\n",
    "Datasets: http://nlp.stanford.edu/~socherr/stanfordSentimentTreebank.zip\n",
    "Team members: Vipul Munot, Ashwin Nimhan, Manashree Rao\n",
    "Guidance: Abdul-Mageed, Muhammad Mostafa"
   ]
  },
  {
   "cell_type": "code",
   "execution_count": 1,
   "metadata": {
    "collapsed": true
   },
   "outputs": [],
   "source": [
    "import re\n",
    "import pandas as pd"
   ]
  },
  {
   "cell_type": "code",
   "execution_count": 2,
   "metadata": {
    "collapsed": true
   },
   "outputs": [],
   "source": [
    "def lex(filename):\n",
    "    file = open(filename, 'r')\n",
    "    word_list = []\n",
    "    for line in file:\n",
    "        for word in line.split(' '):\n",
    "            word = word.strip()\n",
    "            word = re.sub(\"_\",\" \",word)\n",
    "            word_list.append(word)\n",
    "    return word_list"
   ]
  },
  {
   "cell_type": "code",
   "execution_count": 3,
   "metadata": {
    "collapsed": true
   },
   "outputs": [],
   "source": [
    "pos = lex(\"/home/alien/Downloads/SA/pos.wn\")\n",
    "neg = lex(\"/home/alien/Downloads/SA/neg.wn\")\n",
    "sentences = open(\"/home/alien/Downloads/SA/datasetSentences.txt\",'r')\n",
    "frame = {'lines': [], 'labels': []}\n"
   ]
  },
  {
   "cell_type": "code",
   "execution_count": 4,
   "metadata": {
    "collapsed": false
   },
   "outputs": [
    {
     "name": "stdout",
     "output_type": "stream",
     "text": [
      "['couthie', 'confidence man', 'definiteness', 'changelessness', 'morally', 'ethmoidal vein', 'unquestionableness', 'uselessness', 'top-quality', 'good-humoredness']\n"
     ]
    }
   ],
   "source": [
    "print pos[:10]"
   ]
  },
  {
   "cell_type": "code",
   "execution_count": 5,
   "metadata": {
    "collapsed": false
   },
   "outputs": [
    {
     "name": "stdout",
     "output_type": "stream",
     "text": [
      "['twilight of the gods', 'rumbustious', 'screaming', 'grueling', 'inanimate', 'stern', 'changelessness', 'sugarless', 'order pseudoscorpiones', 'modest']\n"
     ]
    }
   ],
   "source": [
    "print neg[:10]"
   ]
  },
  {
   "cell_type": "code",
   "execution_count": 6,
   "metadata": {
    "collapsed": true
   },
   "outputs": [],
   "source": [
    "for line in sentences:\n",
    "    pos_counter = 0\n",
    "    neg_counter = 0\n",
    "    label = ''\n",
    "  \n",
    "    for word in line.split(' '):\n",
    "        if word in pos:\n",
    "            pos_counter+=1\n",
    "        elif word in neg:\n",
    "            neg_counter+=1\n",
    "    if pos_counter > neg_counter: \n",
    "        label = 'Positive'\n",
    "    elif pos_counter > neg_counter: \n",
    "        label = 'Negative'\n",
    "    elif pos_counter == 0 and neg_counter == 0:  \n",
    "        label = 'Not Found'\n",
    "    else: \n",
    "        label = 'Neutral'\n",
    "    frame['lines'].append(line)\n",
    "    frame['labels'].append(label)"
   ]
  },
  {
   "cell_type": "code",
   "execution_count": 7,
   "metadata": {
    "collapsed": true
   },
   "outputs": [],
   "source": [
    "frame = pd.DataFrame(frame)\n"
   ]
  },
  {
   "cell_type": "code",
   "execution_count": 8,
   "metadata": {
    "collapsed": false
   },
   "outputs": [
    {
     "data": {
      "text/html": [
       "<div style=\"max-height:1000px;max-width:1500px;overflow:auto;\">\n",
       "<table border=\"1\" class=\"dataframe\">\n",
       "  <thead>\n",
       "    <tr style=\"text-align: right;\">\n",
       "      <th></th>\n",
       "      <th>labels</th>\n",
       "      <th>lines</th>\n",
       "    </tr>\n",
       "  </thead>\n",
       "  <tbody>\n",
       "    <tr>\n",
       "      <th>0</th>\n",
       "      <td> Not Found</td>\n",
       "      <td>                        sentence_index\\tsentence\\n</td>\n",
       "    </tr>\n",
       "    <tr>\n",
       "      <th>1</th>\n",
       "      <td> Not Found</td>\n",
       "      <td> 1\\tThe Rock is destined to be the 21st Century...</td>\n",
       "    </tr>\n",
       "    <tr>\n",
       "      <th>2</th>\n",
       "      <td>   Neutral</td>\n",
       "      <td> 2\\tThe gorgeously elaborate continuation of ``...</td>\n",
       "    </tr>\n",
       "    <tr>\n",
       "      <th>3</th>\n",
       "      <td> Not Found</td>\n",
       "      <td>               3\\tEffective but too-tepid biopic\\n</td>\n",
       "    </tr>\n",
       "    <tr>\n",
       "      <th>4</th>\n",
       "      <td>  Positive</td>\n",
       "      <td> 4\\tIf you sometimes like to go to the movies t...</td>\n",
       "    </tr>\n",
       "    <tr>\n",
       "      <th>5</th>\n",
       "      <td>  Positive</td>\n",
       "      <td> 5\\tEmerges as something rare , an issue movie ...</td>\n",
       "    </tr>\n",
       "    <tr>\n",
       "      <th>6</th>\n",
       "      <td>  Positive</td>\n",
       "      <td> 6\\tThe film provides some great insight into t...</td>\n",
       "    </tr>\n",
       "    <tr>\n",
       "      <th>7</th>\n",
       "      <td>  Positive</td>\n",
       "      <td> 7\\tOffers that rare combination of entertainme...</td>\n",
       "    </tr>\n",
       "    <tr>\n",
       "      <th>8</th>\n",
       "      <td>   Neutral</td>\n",
       "      <td> 8\\tPerhaps no picture ever made has more liter...</td>\n",
       "    </tr>\n",
       "    <tr>\n",
       "      <th>9</th>\n",
       "      <td>  Positive</td>\n",
       "      <td> 9\\tSteers turns in a snappy screenplay that cu...</td>\n",
       "    </tr>\n",
       "  </tbody>\n",
       "</table>\n",
       "</div>"
      ],
      "text/plain": [
       "      labels                                              lines\n",
       "0  Not Found                         sentence_index\\tsentence\\n\n",
       "1  Not Found  1\\tThe Rock is destined to be the 21st Century...\n",
       "2    Neutral  2\\tThe gorgeously elaborate continuation of ``...\n",
       "3  Not Found                3\\tEffective but too-tepid biopic\\n\n",
       "4   Positive  4\\tIf you sometimes like to go to the movies t...\n",
       "5   Positive  5\\tEmerges as something rare , an issue movie ...\n",
       "6   Positive  6\\tThe film provides some great insight into t...\n",
       "7   Positive  7\\tOffers that rare combination of entertainme...\n",
       "8    Neutral  8\\tPerhaps no picture ever made has more liter...\n",
       "9   Positive  9\\tSteers turns in a snappy screenplay that cu..."
      ]
     },
     "execution_count": 8,
     "metadata": {},
     "output_type": "execute_result"
    }
   ],
   "source": [
    "frame.head(10)"
   ]
  },
  {
   "cell_type": "code",
   "execution_count": null,
   "metadata": {
    "collapsed": true
   },
   "outputs": [],
   "source": []
  }
 ],
 "metadata": {
  "kernelspec": {
   "display_name": "Python 2",
   "language": "python",
   "name": "python2"
  },
  "language_info": {
   "codemirror_mode": {
    "name": "ipython",
    "version": 2
   },
   "file_extension": ".py",
   "mimetype": "text/x-python",
   "name": "python",
   "nbconvert_exporter": "python",
   "pygments_lexer": "ipython2",
   "version": "2.7.10"
  }
 },
 "nbformat": 4,
 "nbformat_minor": 0
}
